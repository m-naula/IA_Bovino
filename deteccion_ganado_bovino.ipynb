{
  "nbformat": 4,
  "nbformat_minor": 0,
  "metadata": {
    "colab": {
      "provenance": [],
      "authorship_tag": "ABX9TyMbfrB8hRw5TLgWWUtibCxC"
    },
    "kernelspec": {
      "name": "python3",
      "display_name": "Python 3"
    },
    "language_info": {
      "name": "python"
    }
  },
  "cells": [
    {
      "cell_type": "markdown",
      "source": [
        "# **Detección de ganado bovino con Deep Learning (YOLOv8n)**\n",
        "\n",
        "---\n",
        "\n"
      ],
      "metadata": {
        "id": "VxUB97CPgJTu"
      }
    },
    {
      "cell_type": "code",
      "source": [],
      "metadata": {
        "id": "VCyM6l6ggTCe"
      },
      "execution_count": null,
      "outputs": []
    }
  ]
}