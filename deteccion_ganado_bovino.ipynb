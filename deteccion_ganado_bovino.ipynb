{
  "nbformat": 4,
  "nbformat_minor": 0,
  "metadata": {
    "colab": {
      "provenance": [],
      "authorship_tag": "ABX9TyN5dTSDXgEK9en3idpRl2dQ"
    },
    "kernelspec": {
      "name": "python3",
      "display_name": "Python 3"
    },
    "language_info": {
      "name": "python"
    }
  },
  "cells": [
    {
      "cell_type": "markdown",
      "source": [
        "# **Detección de ganado bovino con Deep Learning (YOLOv8n)**\n",
        "\n",
        "---\n",
        "\n"
      ],
      "metadata": {
        "id": "VxUB97CPgJTu"
      }
    },
    {
      "cell_type": "markdown",
      "source": [
        "**Utilizar Drive para acceder a los directorios y archivos**"
      ],
      "metadata": {
        "id": "Sqy4rQXfwSU4"
      }
    },
    {
      "cell_type": "code",
      "source": [
        "from google.colab import drive\n",
        "drive.mount('/content/drive')"
      ],
      "metadata": {
        "colab": {
          "base_uri": "https://localhost:8080/"
        },
        "id": "fi5rls4HwkN1",
        "outputId": "80bbaacd-3775-483e-c9aa-2f04f26ffbad"
      },
      "execution_count": 5,
      "outputs": [
        {
          "output_type": "stream",
          "name": "stdout",
          "text": [
            "Drive already mounted at /content/drive; to attempt to forcibly remount, call drive.mount(\"/content/drive\", force_remount=True).\n"
          ]
        }
      ]
    },
    {
      "cell_type": "markdown",
      "source": [
        "**Configurar en entorno de trabajo**"
      ],
      "metadata": {
        "id": "lAcQi5L92S7d"
      }
    },
    {
      "cell_type": "code",
      "source": [
        "import sys\n",
        "sys.path.append('/content/drive/MyDrive/libs')"
      ],
      "metadata": {
        "id": "KlkaP5Iw5jjC"
      },
      "execution_count": 6,
      "outputs": []
    },
    {
      "cell_type": "markdown",
      "source": [],
      "metadata": {
        "id": "LufbMLmQ65z5"
      }
    }
  ]
}